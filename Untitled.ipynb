{
 "cells": [
  {
   "cell_type": "code",
   "execution_count": 1,
   "id": "cd4ade5f",
   "metadata": {},
   "outputs": [],
   "source": [
    "# DataFrames for multi-dimensional\n",
    "# We can Also make dataframe by combining two series\n",
    "# seires + series = dataframe"
   ]
  },
  {
   "cell_type": "code",
   "execution_count": 2,
   "id": "c220d5ca",
   "metadata": {},
   "outputs": [],
   "source": [
    "import numpy as np"
   ]
  },
  {
   "cell_type": "code",
   "execution_count": 3,
   "id": "99f57767",
   "metadata": {},
   "outputs": [],
   "source": [
    "import pandas as pd"
   ]
  },
  {
   "cell_type": "code",
   "execution_count": 4,
   "id": "0d3ad6de",
   "metadata": {},
   "outputs": [],
   "source": [
    "series1=pd.Series([1,2,3,4])"
   ]
  },
  {
   "cell_type": "code",
   "execution_count": 5,
   "id": "1e76ffbb",
   "metadata": {},
   "outputs": [],
   "source": [
    "series2=pd.Series([5,6,7,8])"
   ]
  },
  {
   "cell_type": "code",
   "execution_count": 6,
   "id": "4dbc33b9",
   "metadata": {},
   "outputs": [],
   "source": [
    "# series>>>>Dict>>>>dataframe\n",
    "# Dict>>>dataframe\n",
    "# list >>>>> dataframe "
   ]
  },
  {
   "cell_type": "code",
   "execution_count": 7,
   "id": "c18c3e56",
   "metadata": {},
   "outputs": [],
   "source": [
    "data={\"Series_1\":series1, \"Series_2\":series2}"
   ]
  },
  {
   "cell_type": "code",
   "execution_count": 8,
   "id": "b5e19d3f",
   "metadata": {},
   "outputs": [],
   "source": [
    "df=pd.DataFrame(data)"
   ]
  },
  {
   "cell_type": "code",
   "execution_count": 9,
   "id": "f7d9c6a1",
   "metadata": {},
   "outputs": [
    {
     "data": {
      "text/html": [
       "<div>\n",
       "<style scoped>\n",
       "    .dataframe tbody tr th:only-of-type {\n",
       "        vertical-align: middle;\n",
       "    }\n",
       "\n",
       "    .dataframe tbody tr th {\n",
       "        vertical-align: top;\n",
       "    }\n",
       "\n",
       "    .dataframe thead th {\n",
       "        text-align: right;\n",
       "    }\n",
       "</style>\n",
       "<table border=\"1\" class=\"dataframe\">\n",
       "  <thead>\n",
       "    <tr style=\"text-align: right;\">\n",
       "      <th></th>\n",
       "      <th>Series_1</th>\n",
       "      <th>Series_2</th>\n",
       "    </tr>\n",
       "  </thead>\n",
       "  <tbody>\n",
       "    <tr>\n",
       "      <th>0</th>\n",
       "      <td>1</td>\n",
       "      <td>5</td>\n",
       "    </tr>\n",
       "    <tr>\n",
       "      <th>1</th>\n",
       "      <td>2</td>\n",
       "      <td>6</td>\n",
       "    </tr>\n",
       "    <tr>\n",
       "      <th>2</th>\n",
       "      <td>3</td>\n",
       "      <td>7</td>\n",
       "    </tr>\n",
       "    <tr>\n",
       "      <th>3</th>\n",
       "      <td>4</td>\n",
       "      <td>8</td>\n",
       "    </tr>\n",
       "  </tbody>\n",
       "</table>\n",
       "</div>"
      ],
      "text/plain": [
       "   Series_1  Series_2\n",
       "0         1         5\n",
       "1         2         6\n",
       "2         3         7\n",
       "3         4         8"
      ]
     },
     "execution_count": 9,
     "metadata": {},
     "output_type": "execute_result"
    }
   ],
   "source": [
    "df"
   ]
  },
  {
   "cell_type": "markdown",
   "id": "e3e5c615",
   "metadata": {},
   "source": [
    "# How to make dataframe from Dict"
   ]
  },
  {
   "cell_type": "code",
   "execution_count": 10,
   "id": "80ed8fc1",
   "metadata": {},
   "outputs": [],
   "source": [
    "Dict={\"Student\":[\"Farhan\",\"Daud\",\"Javeria\",\"Arooj\",\"Talha\",\"Hanan\",\"Ayesha\",\"Ali\",\"Usama\",\"Henrry\",\"Denis\",\"Sami\",\"Shehriyaar\"],\n",
    "     \"Age\":[23,24,20,25,26,27,28,21,20,29,28,22,24],\n",
    "     \"CGPA\":[2.3,2.4,2.5,3.5,3.4,3.6,3.8,3.9,4.0,2.1,2.9,3.4,3.9]}"
   ]
  },
  {
   "cell_type": "code",
   "execution_count": 11,
   "id": "3c2ed12e",
   "metadata": {},
   "outputs": [],
   "source": [
    "new_df=pd.DataFrame(Dict)"
   ]
  },
  {
   "cell_type": "code",
   "execution_count": 12,
   "id": "45db197f",
   "metadata": {},
   "outputs": [
    {
     "data": {
      "text/html": [
       "<div>\n",
       "<style scoped>\n",
       "    .dataframe tbody tr th:only-of-type {\n",
       "        vertical-align: middle;\n",
       "    }\n",
       "\n",
       "    .dataframe tbody tr th {\n",
       "        vertical-align: top;\n",
       "    }\n",
       "\n",
       "    .dataframe thead th {\n",
       "        text-align: right;\n",
       "    }\n",
       "</style>\n",
       "<table border=\"1\" class=\"dataframe\">\n",
       "  <thead>\n",
       "    <tr style=\"text-align: right;\">\n",
       "      <th></th>\n",
       "      <th>Student</th>\n",
       "      <th>Age</th>\n",
       "      <th>CGPA</th>\n",
       "    </tr>\n",
       "  </thead>\n",
       "  <tbody>\n",
       "    <tr>\n",
       "      <th>0</th>\n",
       "      <td>Farhan</td>\n",
       "      <td>23</td>\n",
       "      <td>2.3</td>\n",
       "    </tr>\n",
       "    <tr>\n",
       "      <th>1</th>\n",
       "      <td>Daud</td>\n",
       "      <td>24</td>\n",
       "      <td>2.4</td>\n",
       "    </tr>\n",
       "    <tr>\n",
       "      <th>2</th>\n",
       "      <td>Javeria</td>\n",
       "      <td>20</td>\n",
       "      <td>2.5</td>\n",
       "    </tr>\n",
       "    <tr>\n",
       "      <th>3</th>\n",
       "      <td>Arooj</td>\n",
       "      <td>25</td>\n",
       "      <td>3.5</td>\n",
       "    </tr>\n",
       "    <tr>\n",
       "      <th>4</th>\n",
       "      <td>Talha</td>\n",
       "      <td>26</td>\n",
       "      <td>3.4</td>\n",
       "    </tr>\n",
       "    <tr>\n",
       "      <th>5</th>\n",
       "      <td>Hanan</td>\n",
       "      <td>27</td>\n",
       "      <td>3.6</td>\n",
       "    </tr>\n",
       "    <tr>\n",
       "      <th>6</th>\n",
       "      <td>Ayesha</td>\n",
       "      <td>28</td>\n",
       "      <td>3.8</td>\n",
       "    </tr>\n",
       "    <tr>\n",
       "      <th>7</th>\n",
       "      <td>Ali</td>\n",
       "      <td>21</td>\n",
       "      <td>3.9</td>\n",
       "    </tr>\n",
       "    <tr>\n",
       "      <th>8</th>\n",
       "      <td>Usama</td>\n",
       "      <td>20</td>\n",
       "      <td>4.0</td>\n",
       "    </tr>\n",
       "    <tr>\n",
       "      <th>9</th>\n",
       "      <td>Henrry</td>\n",
       "      <td>29</td>\n",
       "      <td>2.1</td>\n",
       "    </tr>\n",
       "    <tr>\n",
       "      <th>10</th>\n",
       "      <td>Denis</td>\n",
       "      <td>28</td>\n",
       "      <td>2.9</td>\n",
       "    </tr>\n",
       "    <tr>\n",
       "      <th>11</th>\n",
       "      <td>Sami</td>\n",
       "      <td>22</td>\n",
       "      <td>3.4</td>\n",
       "    </tr>\n",
       "    <tr>\n",
       "      <th>12</th>\n",
       "      <td>Shehriyaar</td>\n",
       "      <td>24</td>\n",
       "      <td>3.9</td>\n",
       "    </tr>\n",
       "  </tbody>\n",
       "</table>\n",
       "</div>"
      ],
      "text/plain": [
       "       Student  Age  CGPA\n",
       "0       Farhan   23   2.3\n",
       "1         Daud   24   2.4\n",
       "2      Javeria   20   2.5\n",
       "3        Arooj   25   3.5\n",
       "4        Talha   26   3.4\n",
       "5        Hanan   27   3.6\n",
       "6       Ayesha   28   3.8\n",
       "7          Ali   21   3.9\n",
       "8        Usama   20   4.0\n",
       "9       Henrry   29   2.1\n",
       "10       Denis   28   2.9\n",
       "11        Sami   22   3.4\n",
       "12  Shehriyaar   24   3.9"
      ]
     },
     "execution_count": 12,
     "metadata": {},
     "output_type": "execute_result"
    }
   ],
   "source": [
    "new_df"
   ]
  },
  {
   "cell_type": "code",
   "execution_count": 15,
   "id": "ae8b1bd9",
   "metadata": {},
   "outputs": [
    {
     "data": {
      "text/html": [
       "<div>\n",
       "<style scoped>\n",
       "    .dataframe tbody tr th:only-of-type {\n",
       "        vertical-align: middle;\n",
       "    }\n",
       "\n",
       "    .dataframe tbody tr th {\n",
       "        vertical-align: top;\n",
       "    }\n",
       "\n",
       "    .dataframe thead th {\n",
       "        text-align: right;\n",
       "    }\n",
       "</style>\n",
       "<table border=\"1\" class=\"dataframe\">\n",
       "  <thead>\n",
       "    <tr style=\"text-align: right;\">\n",
       "      <th></th>\n",
       "      <th>Student</th>\n",
       "      <th>Age</th>\n",
       "      <th>CGPA</th>\n",
       "    </tr>\n",
       "  </thead>\n",
       "  <tbody>\n",
       "    <tr>\n",
       "      <th>0</th>\n",
       "      <td>Farhan</td>\n",
       "      <td>23</td>\n",
       "      <td>2.3</td>\n",
       "    </tr>\n",
       "    <tr>\n",
       "      <th>1</th>\n",
       "      <td>Daud</td>\n",
       "      <td>24</td>\n",
       "      <td>2.4</td>\n",
       "    </tr>\n",
       "    <tr>\n",
       "      <th>2</th>\n",
       "      <td>Javeria</td>\n",
       "      <td>20</td>\n",
       "      <td>2.5</td>\n",
       "    </tr>\n",
       "    <tr>\n",
       "      <th>3</th>\n",
       "      <td>Arooj</td>\n",
       "      <td>25</td>\n",
       "      <td>3.5</td>\n",
       "    </tr>\n",
       "    <tr>\n",
       "      <th>4</th>\n",
       "      <td>Talha</td>\n",
       "      <td>26</td>\n",
       "      <td>3.4</td>\n",
       "    </tr>\n",
       "  </tbody>\n",
       "</table>\n",
       "</div>"
      ],
      "text/plain": [
       "   Student  Age  CGPA\n",
       "0   Farhan   23   2.3\n",
       "1     Daud   24   2.4\n",
       "2  Javeria   20   2.5\n",
       "3    Arooj   25   3.5\n",
       "4    Talha   26   3.4"
      ]
     },
     "execution_count": 15,
     "metadata": {},
     "output_type": "execute_result"
    }
   ],
   "source": [
    "new_df.head() #explore what parameters add in the head function"
   ]
  },
  {
   "cell_type": "code",
   "execution_count": 16,
   "id": "5813f209",
   "metadata": {},
   "outputs": [
    {
     "data": {
      "text/html": [
       "<div>\n",
       "<style scoped>\n",
       "    .dataframe tbody tr th:only-of-type {\n",
       "        vertical-align: middle;\n",
       "    }\n",
       "\n",
       "    .dataframe tbody tr th {\n",
       "        vertical-align: top;\n",
       "    }\n",
       "\n",
       "    .dataframe thead th {\n",
       "        text-align: right;\n",
       "    }\n",
       "</style>\n",
       "<table border=\"1\" class=\"dataframe\">\n",
       "  <thead>\n",
       "    <tr style=\"text-align: right;\">\n",
       "      <th></th>\n",
       "      <th>Student</th>\n",
       "      <th>Age</th>\n",
       "      <th>CGPA</th>\n",
       "    </tr>\n",
       "  </thead>\n",
       "  <tbody>\n",
       "    <tr>\n",
       "      <th>8</th>\n",
       "      <td>Usama</td>\n",
       "      <td>20</td>\n",
       "      <td>4.0</td>\n",
       "    </tr>\n",
       "    <tr>\n",
       "      <th>9</th>\n",
       "      <td>Henrry</td>\n",
       "      <td>29</td>\n",
       "      <td>2.1</td>\n",
       "    </tr>\n",
       "    <tr>\n",
       "      <th>10</th>\n",
       "      <td>Denis</td>\n",
       "      <td>28</td>\n",
       "      <td>2.9</td>\n",
       "    </tr>\n",
       "    <tr>\n",
       "      <th>11</th>\n",
       "      <td>Sami</td>\n",
       "      <td>22</td>\n",
       "      <td>3.4</td>\n",
       "    </tr>\n",
       "    <tr>\n",
       "      <th>12</th>\n",
       "      <td>Shehriyaar</td>\n",
       "      <td>24</td>\n",
       "      <td>3.9</td>\n",
       "    </tr>\n",
       "  </tbody>\n",
       "</table>\n",
       "</div>"
      ],
      "text/plain": [
       "       Student  Age  CGPA\n",
       "8        Usama   20   4.0\n",
       "9       Henrry   29   2.1\n",
       "10       Denis   28   2.9\n",
       "11        Sami   22   3.4\n",
       "12  Shehriyaar   24   3.9"
      ]
     },
     "execution_count": 16,
     "metadata": {},
     "output_type": "execute_result"
    }
   ],
   "source": [
    "new_df.tail() #explore what parameters add in the tail function"
   ]
  },
  {
   "cell_type": "code",
   "execution_count": 17,
   "id": "ed5e0178",
   "metadata": {},
   "outputs": [
    {
     "data": {
      "text/plain": [
       "Index(['Student', 'Age', 'CGPA'], dtype='object')"
      ]
     },
     "execution_count": 17,
     "metadata": {},
     "output_type": "execute_result"
    }
   ],
   "source": [
    "new_df.columns"
   ]
  },
  {
   "cell_type": "code",
   "execution_count": 18,
   "id": "455404c0",
   "metadata": {},
   "outputs": [
    {
     "data": {
      "text/plain": [
       "RangeIndex(start=0, stop=13, step=1)"
      ]
     },
     "execution_count": 18,
     "metadata": {},
     "output_type": "execute_result"
    }
   ],
   "source": [
    "new_df.index"
   ]
  },
  {
   "cell_type": "code",
   "execution_count": 19,
   "id": "844daaea",
   "metadata": {},
   "outputs": [
    {
     "data": {
      "text/plain": [
       "array([['Farhan', 23, 2.3],\n",
       "       ['Daud', 24, 2.4],\n",
       "       ['Javeria', 20, 2.5],\n",
       "       ['Arooj', 25, 3.5],\n",
       "       ['Talha', 26, 3.4],\n",
       "       ['Hanan', 27, 3.6],\n",
       "       ['Ayesha', 28, 3.8],\n",
       "       ['Ali', 21, 3.9],\n",
       "       ['Usama', 20, 4.0],\n",
       "       ['Henrry', 29, 2.1],\n",
       "       ['Denis', 28, 2.9],\n",
       "       ['Sami', 22, 3.4],\n",
       "       ['Shehriyaar', 24, 3.9]], dtype=object)"
      ]
     },
     "execution_count": 19,
     "metadata": {},
     "output_type": "execute_result"
    }
   ],
   "source": [
    "new_df.values"
   ]
  },
  {
   "cell_type": "code",
   "execution_count": 20,
   "id": "0faa045f",
   "metadata": {},
   "outputs": [
    {
     "data": {
      "text/plain": [
       "(13, 3)"
      ]
     },
     "execution_count": 20,
     "metadata": {},
     "output_type": "execute_result"
    }
   ],
   "source": [
    "new_df.shape"
   ]
  },
  {
   "cell_type": "code",
   "execution_count": 21,
   "id": "73c9870f",
   "metadata": {},
   "outputs": [
    {
     "data": {
      "text/plain": [
       "2"
      ]
     },
     "execution_count": 21,
     "metadata": {},
     "output_type": "execute_result"
    }
   ],
   "source": [
    "new_df.ndim"
   ]
  },
  {
   "cell_type": "markdown",
   "id": "858ca215",
   "metadata": {},
   "source": [
    "# how to access data from dataframes"
   ]
  },
  {
   "cell_type": "code",
   "execution_count": 22,
   "id": "dee1a224",
   "metadata": {},
   "outputs": [
    {
     "data": {
      "text/plain": [
       "0         Farhan\n",
       "1           Daud\n",
       "2        Javeria\n",
       "3          Arooj\n",
       "4          Talha\n",
       "5          Hanan\n",
       "6         Ayesha\n",
       "7            Ali\n",
       "8          Usama\n",
       "9         Henrry\n",
       "10         Denis\n",
       "11          Sami\n",
       "12    Shehriyaar\n",
       "Name: Student, dtype: object"
      ]
     },
     "execution_count": 22,
     "metadata": {},
     "output_type": "execute_result"
    }
   ],
   "source": [
    "new_df[\"Student\"]"
   ]
  },
  {
   "cell_type": "code",
   "execution_count": 23,
   "id": "772a303c",
   "metadata": {},
   "outputs": [
    {
     "data": {
      "text/plain": [
       "0     2.3\n",
       "1     2.4\n",
       "2     2.5\n",
       "3     3.5\n",
       "4     3.4\n",
       "5     3.6\n",
       "6     3.8\n",
       "7     3.9\n",
       "8     4.0\n",
       "9     2.1\n",
       "10    2.9\n",
       "11    3.4\n",
       "12    3.9\n",
       "Name: CGPA, dtype: float64"
      ]
     },
     "execution_count": 23,
     "metadata": {},
     "output_type": "execute_result"
    }
   ],
   "source": [
    "new_df[\"CGPA\"]"
   ]
  },
  {
   "cell_type": "code",
   "execution_count": 24,
   "id": "fe763b94",
   "metadata": {},
   "outputs": [
    {
     "data": {
      "text/plain": [
       "0     23\n",
       "1     24\n",
       "2     20\n",
       "3     25\n",
       "4     26\n",
       "5     27\n",
       "6     28\n",
       "7     21\n",
       "8     20\n",
       "9     29\n",
       "10    28\n",
       "11    22\n",
       "12    24\n",
       "Name: Age, dtype: int64"
      ]
     },
     "execution_count": 24,
     "metadata": {},
     "output_type": "execute_result"
    }
   ],
   "source": [
    "new_df[\"Age\"]"
   ]
  },
  {
   "cell_type": "code",
   "execution_count": 25,
   "id": "926f8ef3",
   "metadata": {},
   "outputs": [],
   "source": [
    "ln=len(new_df)"
   ]
  },
  {
   "cell_type": "code",
   "execution_count": 26,
   "id": "5a00a71a",
   "metadata": {},
   "outputs": [
    {
     "data": {
      "text/plain": [
       "13"
      ]
     },
     "execution_count": 26,
     "metadata": {},
     "output_type": "execute_result"
    }
   ],
   "source": [
    "ln"
   ]
  },
  {
   "cell_type": "code",
   "execution_count": 27,
   "id": "d5efcb05",
   "metadata": {},
   "outputs": [
    {
     "data": {
      "text/plain": [
       "0     2.3\n",
       "1     2.4\n",
       "2     2.5\n",
       "3     3.5\n",
       "4     3.4\n",
       "5     3.6\n",
       "6     3.8\n",
       "7     3.9\n",
       "8     4.0\n",
       "9     2.1\n",
       "10    2.9\n",
       "11    3.4\n",
       "12    3.9\n",
       "Name: CGPA, dtype: float64"
      ]
     },
     "execution_count": 27,
     "metadata": {},
     "output_type": "execute_result"
    }
   ],
   "source": [
    "new_df[\"CGPA\"]"
   ]
  },
  {
   "cell_type": "code",
   "execution_count": 28,
   "id": "866789e5",
   "metadata": {},
   "outputs": [
    {
     "data": {
      "text/plain": [
       "2.1"
      ]
     },
     "execution_count": 28,
     "metadata": {},
     "output_type": "execute_result"
    }
   ],
   "source": [
    "new_df[\"CGPA\"].min()"
   ]
  },
  {
   "cell_type": "code",
   "execution_count": 29,
   "id": "340f7c93",
   "metadata": {},
   "outputs": [
    {
     "data": {
      "text/plain": [
       "4.0"
      ]
     },
     "execution_count": 29,
     "metadata": {},
     "output_type": "execute_result"
    }
   ],
   "source": [
    "new_df[\"CGPA\"].max()"
   ]
  },
  {
   "cell_type": "code",
   "execution_count": 30,
   "id": "759754dd",
   "metadata": {},
   "outputs": [
    {
     "data": {
      "text/plain": [
       "1.9"
      ]
     },
     "execution_count": 30,
     "metadata": {},
     "output_type": "execute_result"
    }
   ],
   "source": [
    "new_df[\"CGPA\"].max()-new_df[\"CGPA\"].min()"
   ]
  },
  {
   "cell_type": "code",
   "execution_count": 31,
   "id": "20639a07",
   "metadata": {},
   "outputs": [
    {
     "data": {
      "text/html": [
       "<div>\n",
       "<style scoped>\n",
       "    .dataframe tbody tr th:only-of-type {\n",
       "        vertical-align: middle;\n",
       "    }\n",
       "\n",
       "    .dataframe tbody tr th {\n",
       "        vertical-align: top;\n",
       "    }\n",
       "\n",
       "    .dataframe thead th {\n",
       "        text-align: right;\n",
       "    }\n",
       "</style>\n",
       "<table border=\"1\" class=\"dataframe\">\n",
       "  <thead>\n",
       "    <tr style=\"text-align: right;\">\n",
       "      <th></th>\n",
       "      <th>CGPA</th>\n",
       "      <th>Student</th>\n",
       "    </tr>\n",
       "  </thead>\n",
       "  <tbody>\n",
       "    <tr>\n",
       "      <th>0</th>\n",
       "      <td>2.3</td>\n",
       "      <td>Farhan</td>\n",
       "    </tr>\n",
       "    <tr>\n",
       "      <th>1</th>\n",
       "      <td>2.4</td>\n",
       "      <td>Daud</td>\n",
       "    </tr>\n",
       "    <tr>\n",
       "      <th>2</th>\n",
       "      <td>2.5</td>\n",
       "      <td>Javeria</td>\n",
       "    </tr>\n",
       "    <tr>\n",
       "      <th>3</th>\n",
       "      <td>3.5</td>\n",
       "      <td>Arooj</td>\n",
       "    </tr>\n",
       "    <tr>\n",
       "      <th>4</th>\n",
       "      <td>3.4</td>\n",
       "      <td>Talha</td>\n",
       "    </tr>\n",
       "    <tr>\n",
       "      <th>5</th>\n",
       "      <td>3.6</td>\n",
       "      <td>Hanan</td>\n",
       "    </tr>\n",
       "    <tr>\n",
       "      <th>6</th>\n",
       "      <td>3.8</td>\n",
       "      <td>Ayesha</td>\n",
       "    </tr>\n",
       "    <tr>\n",
       "      <th>7</th>\n",
       "      <td>3.9</td>\n",
       "      <td>Ali</td>\n",
       "    </tr>\n",
       "    <tr>\n",
       "      <th>8</th>\n",
       "      <td>4.0</td>\n",
       "      <td>Usama</td>\n",
       "    </tr>\n",
       "    <tr>\n",
       "      <th>9</th>\n",
       "      <td>2.1</td>\n",
       "      <td>Henrry</td>\n",
       "    </tr>\n",
       "    <tr>\n",
       "      <th>10</th>\n",
       "      <td>2.9</td>\n",
       "      <td>Denis</td>\n",
       "    </tr>\n",
       "    <tr>\n",
       "      <th>11</th>\n",
       "      <td>3.4</td>\n",
       "      <td>Sami</td>\n",
       "    </tr>\n",
       "    <tr>\n",
       "      <th>12</th>\n",
       "      <td>3.9</td>\n",
       "      <td>Shehriyaar</td>\n",
       "    </tr>\n",
       "  </tbody>\n",
       "</table>\n",
       "</div>"
      ],
      "text/plain": [
       "    CGPA     Student\n",
       "0    2.3      Farhan\n",
       "1    2.4        Daud\n",
       "2    2.5     Javeria\n",
       "3    3.5       Arooj\n",
       "4    3.4       Talha\n",
       "5    3.6       Hanan\n",
       "6    3.8      Ayesha\n",
       "7    3.9         Ali\n",
       "8    4.0       Usama\n",
       "9    2.1      Henrry\n",
       "10   2.9       Denis\n",
       "11   3.4        Sami\n",
       "12   3.9  Shehriyaar"
      ]
     },
     "execution_count": 31,
     "metadata": {},
     "output_type": "execute_result"
    }
   ],
   "source": [
    "new_df[[\"CGPA\",'Student']]"
   ]
  },
  {
   "cell_type": "code",
   "execution_count": 32,
   "id": "aa9f8924",
   "metadata": {},
   "outputs": [
    {
     "data": {
      "text/html": [
       "<div>\n",
       "<style scoped>\n",
       "    .dataframe tbody tr th:only-of-type {\n",
       "        vertical-align: middle;\n",
       "    }\n",
       "\n",
       "    .dataframe tbody tr th {\n",
       "        vertical-align: top;\n",
       "    }\n",
       "\n",
       "    .dataframe thead th {\n",
       "        text-align: right;\n",
       "    }\n",
       "</style>\n",
       "<table border=\"1\" class=\"dataframe\">\n",
       "  <thead>\n",
       "    <tr style=\"text-align: right;\">\n",
       "      <th></th>\n",
       "      <th>Student</th>\n",
       "      <th>Age</th>\n",
       "      <th>CGPA</th>\n",
       "    </tr>\n",
       "  </thead>\n",
       "  <tbody>\n",
       "    <tr>\n",
       "      <th>0</th>\n",
       "      <td>Farhan</td>\n",
       "      <td>23</td>\n",
       "      <td>2.3</td>\n",
       "    </tr>\n",
       "    <tr>\n",
       "      <th>1</th>\n",
       "      <td>Daud</td>\n",
       "      <td>24</td>\n",
       "      <td>2.4</td>\n",
       "    </tr>\n",
       "    <tr>\n",
       "      <th>2</th>\n",
       "      <td>Javeria</td>\n",
       "      <td>20</td>\n",
       "      <td>2.5</td>\n",
       "    </tr>\n",
       "    <tr>\n",
       "      <th>3</th>\n",
       "      <td>Arooj</td>\n",
       "      <td>25</td>\n",
       "      <td>3.5</td>\n",
       "    </tr>\n",
       "    <tr>\n",
       "      <th>4</th>\n",
       "      <td>Talha</td>\n",
       "      <td>26</td>\n",
       "      <td>3.4</td>\n",
       "    </tr>\n",
       "    <tr>\n",
       "      <th>5</th>\n",
       "      <td>Hanan</td>\n",
       "      <td>27</td>\n",
       "      <td>3.6</td>\n",
       "    </tr>\n",
       "    <tr>\n",
       "      <th>6</th>\n",
       "      <td>Ayesha</td>\n",
       "      <td>28</td>\n",
       "      <td>3.8</td>\n",
       "    </tr>\n",
       "    <tr>\n",
       "      <th>7</th>\n",
       "      <td>Ali</td>\n",
       "      <td>21</td>\n",
       "      <td>3.9</td>\n",
       "    </tr>\n",
       "    <tr>\n",
       "      <th>8</th>\n",
       "      <td>Usama</td>\n",
       "      <td>20</td>\n",
       "      <td>4.0</td>\n",
       "    </tr>\n",
       "    <tr>\n",
       "      <th>9</th>\n",
       "      <td>Henrry</td>\n",
       "      <td>29</td>\n",
       "      <td>2.1</td>\n",
       "    </tr>\n",
       "    <tr>\n",
       "      <th>10</th>\n",
       "      <td>Denis</td>\n",
       "      <td>28</td>\n",
       "      <td>2.9</td>\n",
       "    </tr>\n",
       "    <tr>\n",
       "      <th>11</th>\n",
       "      <td>Sami</td>\n",
       "      <td>22</td>\n",
       "      <td>3.4</td>\n",
       "    </tr>\n",
       "    <tr>\n",
       "      <th>12</th>\n",
       "      <td>Shehriyaar</td>\n",
       "      <td>24</td>\n",
       "      <td>3.9</td>\n",
       "    </tr>\n",
       "  </tbody>\n",
       "</table>\n",
       "</div>"
      ],
      "text/plain": [
       "       Student  Age  CGPA\n",
       "0       Farhan   23   2.3\n",
       "1         Daud   24   2.4\n",
       "2      Javeria   20   2.5\n",
       "3        Arooj   25   3.5\n",
       "4        Talha   26   3.4\n",
       "5        Hanan   27   3.6\n",
       "6       Ayesha   28   3.8\n",
       "7          Ali   21   3.9\n",
       "8        Usama   20   4.0\n",
       "9       Henrry   29   2.1\n",
       "10       Denis   28   2.9\n",
       "11        Sami   22   3.4\n",
       "12  Shehriyaar   24   3.9"
      ]
     },
     "execution_count": 32,
     "metadata": {},
     "output_type": "execute_result"
    }
   ],
   "source": [
    "new_df"
   ]
  },
  {
   "cell_type": "code",
   "execution_count": 33,
   "id": "5ed0bb86",
   "metadata": {},
   "outputs": [],
   "source": [
    "new_df[\"Country\"]=\"Pakistan\""
   ]
  },
  {
   "cell_type": "code",
   "execution_count": 34,
   "id": "817feb03",
   "metadata": {},
   "outputs": [
    {
     "data": {
      "text/html": [
       "<div>\n",
       "<style scoped>\n",
       "    .dataframe tbody tr th:only-of-type {\n",
       "        vertical-align: middle;\n",
       "    }\n",
       "\n",
       "    .dataframe tbody tr th {\n",
       "        vertical-align: top;\n",
       "    }\n",
       "\n",
       "    .dataframe thead th {\n",
       "        text-align: right;\n",
       "    }\n",
       "</style>\n",
       "<table border=\"1\" class=\"dataframe\">\n",
       "  <thead>\n",
       "    <tr style=\"text-align: right;\">\n",
       "      <th></th>\n",
       "      <th>Student</th>\n",
       "      <th>Age</th>\n",
       "      <th>CGPA</th>\n",
       "      <th>Country</th>\n",
       "    </tr>\n",
       "  </thead>\n",
       "  <tbody>\n",
       "    <tr>\n",
       "      <th>0</th>\n",
       "      <td>Farhan</td>\n",
       "      <td>23</td>\n",
       "      <td>2.3</td>\n",
       "      <td>Pakistan</td>\n",
       "    </tr>\n",
       "    <tr>\n",
       "      <th>1</th>\n",
       "      <td>Daud</td>\n",
       "      <td>24</td>\n",
       "      <td>2.4</td>\n",
       "      <td>Pakistan</td>\n",
       "    </tr>\n",
       "    <tr>\n",
       "      <th>2</th>\n",
       "      <td>Javeria</td>\n",
       "      <td>20</td>\n",
       "      <td>2.5</td>\n",
       "      <td>Pakistan</td>\n",
       "    </tr>\n",
       "    <tr>\n",
       "      <th>3</th>\n",
       "      <td>Arooj</td>\n",
       "      <td>25</td>\n",
       "      <td>3.5</td>\n",
       "      <td>Pakistan</td>\n",
       "    </tr>\n",
       "    <tr>\n",
       "      <th>4</th>\n",
       "      <td>Talha</td>\n",
       "      <td>26</td>\n",
       "      <td>3.4</td>\n",
       "      <td>Pakistan</td>\n",
       "    </tr>\n",
       "    <tr>\n",
       "      <th>5</th>\n",
       "      <td>Hanan</td>\n",
       "      <td>27</td>\n",
       "      <td>3.6</td>\n",
       "      <td>Pakistan</td>\n",
       "    </tr>\n",
       "    <tr>\n",
       "      <th>6</th>\n",
       "      <td>Ayesha</td>\n",
       "      <td>28</td>\n",
       "      <td>3.8</td>\n",
       "      <td>Pakistan</td>\n",
       "    </tr>\n",
       "    <tr>\n",
       "      <th>7</th>\n",
       "      <td>Ali</td>\n",
       "      <td>21</td>\n",
       "      <td>3.9</td>\n",
       "      <td>Pakistan</td>\n",
       "    </tr>\n",
       "    <tr>\n",
       "      <th>8</th>\n",
       "      <td>Usama</td>\n",
       "      <td>20</td>\n",
       "      <td>4.0</td>\n",
       "      <td>Pakistan</td>\n",
       "    </tr>\n",
       "    <tr>\n",
       "      <th>9</th>\n",
       "      <td>Henrry</td>\n",
       "      <td>29</td>\n",
       "      <td>2.1</td>\n",
       "      <td>Pakistan</td>\n",
       "    </tr>\n",
       "    <tr>\n",
       "      <th>10</th>\n",
       "      <td>Denis</td>\n",
       "      <td>28</td>\n",
       "      <td>2.9</td>\n",
       "      <td>Pakistan</td>\n",
       "    </tr>\n",
       "    <tr>\n",
       "      <th>11</th>\n",
       "      <td>Sami</td>\n",
       "      <td>22</td>\n",
       "      <td>3.4</td>\n",
       "      <td>Pakistan</td>\n",
       "    </tr>\n",
       "    <tr>\n",
       "      <th>12</th>\n",
       "      <td>Shehriyaar</td>\n",
       "      <td>24</td>\n",
       "      <td>3.9</td>\n",
       "      <td>Pakistan</td>\n",
       "    </tr>\n",
       "  </tbody>\n",
       "</table>\n",
       "</div>"
      ],
      "text/plain": [
       "       Student  Age  CGPA   Country\n",
       "0       Farhan   23   2.3  Pakistan\n",
       "1         Daud   24   2.4  Pakistan\n",
       "2      Javeria   20   2.5  Pakistan\n",
       "3        Arooj   25   3.5  Pakistan\n",
       "4        Talha   26   3.4  Pakistan\n",
       "5        Hanan   27   3.6  Pakistan\n",
       "6       Ayesha   28   3.8  Pakistan\n",
       "7          Ali   21   3.9  Pakistan\n",
       "8        Usama   20   4.0  Pakistan\n",
       "9       Henrry   29   2.1  Pakistan\n",
       "10       Denis   28   2.9  Pakistan\n",
       "11        Sami   22   3.4  Pakistan\n",
       "12  Shehriyaar   24   3.9  Pakistan"
      ]
     },
     "execution_count": 34,
     "metadata": {},
     "output_type": "execute_result"
    }
   ],
   "source": [
    "new_df"
   ]
  },
  {
   "cell_type": "code",
   "execution_count": 35,
   "id": "ddf4ccc8",
   "metadata": {},
   "outputs": [],
   "source": [
    "new_df[\"City\"]=[\"Faisalabad\",\"Lahore\",\"Islamabad\",\"karachi\",\"Multan\",\"Layyia\",\"khushaab\",\"Gojra\",\"Faisalabad\",\"Lahore\",\"Khushab\",\"Faisalabad\",\"Islamabad\",]"
   ]
  },
  {
   "cell_type": "code",
   "execution_count": 36,
   "id": "624667e0",
   "metadata": {},
   "outputs": [
    {
     "data": {
      "text/html": [
       "<div>\n",
       "<style scoped>\n",
       "    .dataframe tbody tr th:only-of-type {\n",
       "        vertical-align: middle;\n",
       "    }\n",
       "\n",
       "    .dataframe tbody tr th {\n",
       "        vertical-align: top;\n",
       "    }\n",
       "\n",
       "    .dataframe thead th {\n",
       "        text-align: right;\n",
       "    }\n",
       "</style>\n",
       "<table border=\"1\" class=\"dataframe\">\n",
       "  <thead>\n",
       "    <tr style=\"text-align: right;\">\n",
       "      <th></th>\n",
       "      <th>Student</th>\n",
       "      <th>Age</th>\n",
       "      <th>CGPA</th>\n",
       "      <th>Country</th>\n",
       "      <th>City</th>\n",
       "    </tr>\n",
       "  </thead>\n",
       "  <tbody>\n",
       "    <tr>\n",
       "      <th>0</th>\n",
       "      <td>Farhan</td>\n",
       "      <td>23</td>\n",
       "      <td>2.3</td>\n",
       "      <td>Pakistan</td>\n",
       "      <td>Faisalabad</td>\n",
       "    </tr>\n",
       "    <tr>\n",
       "      <th>1</th>\n",
       "      <td>Daud</td>\n",
       "      <td>24</td>\n",
       "      <td>2.4</td>\n",
       "      <td>Pakistan</td>\n",
       "      <td>Lahore</td>\n",
       "    </tr>\n",
       "    <tr>\n",
       "      <th>2</th>\n",
       "      <td>Javeria</td>\n",
       "      <td>20</td>\n",
       "      <td>2.5</td>\n",
       "      <td>Pakistan</td>\n",
       "      <td>Islamabad</td>\n",
       "    </tr>\n",
       "    <tr>\n",
       "      <th>3</th>\n",
       "      <td>Arooj</td>\n",
       "      <td>25</td>\n",
       "      <td>3.5</td>\n",
       "      <td>Pakistan</td>\n",
       "      <td>karachi</td>\n",
       "    </tr>\n",
       "    <tr>\n",
       "      <th>4</th>\n",
       "      <td>Talha</td>\n",
       "      <td>26</td>\n",
       "      <td>3.4</td>\n",
       "      <td>Pakistan</td>\n",
       "      <td>Multan</td>\n",
       "    </tr>\n",
       "    <tr>\n",
       "      <th>5</th>\n",
       "      <td>Hanan</td>\n",
       "      <td>27</td>\n",
       "      <td>3.6</td>\n",
       "      <td>Pakistan</td>\n",
       "      <td>Layyia</td>\n",
       "    </tr>\n",
       "    <tr>\n",
       "      <th>6</th>\n",
       "      <td>Ayesha</td>\n",
       "      <td>28</td>\n",
       "      <td>3.8</td>\n",
       "      <td>Pakistan</td>\n",
       "      <td>khushaab</td>\n",
       "    </tr>\n",
       "    <tr>\n",
       "      <th>7</th>\n",
       "      <td>Ali</td>\n",
       "      <td>21</td>\n",
       "      <td>3.9</td>\n",
       "      <td>Pakistan</td>\n",
       "      <td>Gojra</td>\n",
       "    </tr>\n",
       "    <tr>\n",
       "      <th>8</th>\n",
       "      <td>Usama</td>\n",
       "      <td>20</td>\n",
       "      <td>4.0</td>\n",
       "      <td>Pakistan</td>\n",
       "      <td>Faisalabad</td>\n",
       "    </tr>\n",
       "    <tr>\n",
       "      <th>9</th>\n",
       "      <td>Henrry</td>\n",
       "      <td>29</td>\n",
       "      <td>2.1</td>\n",
       "      <td>Pakistan</td>\n",
       "      <td>Lahore</td>\n",
       "    </tr>\n",
       "    <tr>\n",
       "      <th>10</th>\n",
       "      <td>Denis</td>\n",
       "      <td>28</td>\n",
       "      <td>2.9</td>\n",
       "      <td>Pakistan</td>\n",
       "      <td>Khushab</td>\n",
       "    </tr>\n",
       "    <tr>\n",
       "      <th>11</th>\n",
       "      <td>Sami</td>\n",
       "      <td>22</td>\n",
       "      <td>3.4</td>\n",
       "      <td>Pakistan</td>\n",
       "      <td>Faisalabad</td>\n",
       "    </tr>\n",
       "    <tr>\n",
       "      <th>12</th>\n",
       "      <td>Shehriyaar</td>\n",
       "      <td>24</td>\n",
       "      <td>3.9</td>\n",
       "      <td>Pakistan</td>\n",
       "      <td>Islamabad</td>\n",
       "    </tr>\n",
       "  </tbody>\n",
       "</table>\n",
       "</div>"
      ],
      "text/plain": [
       "       Student  Age  CGPA   Country        City\n",
       "0       Farhan   23   2.3  Pakistan  Faisalabad\n",
       "1         Daud   24   2.4  Pakistan      Lahore\n",
       "2      Javeria   20   2.5  Pakistan   Islamabad\n",
       "3        Arooj   25   3.5  Pakistan     karachi\n",
       "4        Talha   26   3.4  Pakistan      Multan\n",
       "5        Hanan   27   3.6  Pakistan      Layyia\n",
       "6       Ayesha   28   3.8  Pakistan    khushaab\n",
       "7          Ali   21   3.9  Pakistan       Gojra\n",
       "8        Usama   20   4.0  Pakistan  Faisalabad\n",
       "9       Henrry   29   2.1  Pakistan      Lahore\n",
       "10       Denis   28   2.9  Pakistan     Khushab\n",
       "11        Sami   22   3.4  Pakistan  Faisalabad\n",
       "12  Shehriyaar   24   3.9  Pakistan   Islamabad"
      ]
     },
     "execution_count": 36,
     "metadata": {},
     "output_type": "execute_result"
    }
   ],
   "source": [
    "new_df"
   ]
  },
  {
   "cell_type": "code",
   "execution_count": 37,
   "id": "b9cab566",
   "metadata": {},
   "outputs": [],
   "source": [
    "new_df[\"Status\"]=[\"Pass\" if CGPA>2.5 else \"Fail\" for CGPA in new_df[\"CGPA\"]]"
   ]
  },
  {
   "cell_type": "code",
   "execution_count": 38,
   "id": "c11386f3",
   "metadata": {},
   "outputs": [
    {
     "data": {
      "text/html": [
       "<div>\n",
       "<style scoped>\n",
       "    .dataframe tbody tr th:only-of-type {\n",
       "        vertical-align: middle;\n",
       "    }\n",
       "\n",
       "    .dataframe tbody tr th {\n",
       "        vertical-align: top;\n",
       "    }\n",
       "\n",
       "    .dataframe thead th {\n",
       "        text-align: right;\n",
       "    }\n",
       "</style>\n",
       "<table border=\"1\" class=\"dataframe\">\n",
       "  <thead>\n",
       "    <tr style=\"text-align: right;\">\n",
       "      <th></th>\n",
       "      <th>Student</th>\n",
       "      <th>Age</th>\n",
       "      <th>CGPA</th>\n",
       "      <th>Country</th>\n",
       "      <th>City</th>\n",
       "      <th>Status</th>\n",
       "    </tr>\n",
       "  </thead>\n",
       "  <tbody>\n",
       "    <tr>\n",
       "      <th>0</th>\n",
       "      <td>Farhan</td>\n",
       "      <td>23</td>\n",
       "      <td>2.3</td>\n",
       "      <td>Pakistan</td>\n",
       "      <td>Faisalabad</td>\n",
       "      <td>Fail</td>\n",
       "    </tr>\n",
       "    <tr>\n",
       "      <th>1</th>\n",
       "      <td>Daud</td>\n",
       "      <td>24</td>\n",
       "      <td>2.4</td>\n",
       "      <td>Pakistan</td>\n",
       "      <td>Lahore</td>\n",
       "      <td>Fail</td>\n",
       "    </tr>\n",
       "    <tr>\n",
       "      <th>2</th>\n",
       "      <td>Javeria</td>\n",
       "      <td>20</td>\n",
       "      <td>2.5</td>\n",
       "      <td>Pakistan</td>\n",
       "      <td>Islamabad</td>\n",
       "      <td>Fail</td>\n",
       "    </tr>\n",
       "    <tr>\n",
       "      <th>3</th>\n",
       "      <td>Arooj</td>\n",
       "      <td>25</td>\n",
       "      <td>3.5</td>\n",
       "      <td>Pakistan</td>\n",
       "      <td>karachi</td>\n",
       "      <td>Pass</td>\n",
       "    </tr>\n",
       "    <tr>\n",
       "      <th>4</th>\n",
       "      <td>Talha</td>\n",
       "      <td>26</td>\n",
       "      <td>3.4</td>\n",
       "      <td>Pakistan</td>\n",
       "      <td>Multan</td>\n",
       "      <td>Pass</td>\n",
       "    </tr>\n",
       "    <tr>\n",
       "      <th>5</th>\n",
       "      <td>Hanan</td>\n",
       "      <td>27</td>\n",
       "      <td>3.6</td>\n",
       "      <td>Pakistan</td>\n",
       "      <td>Layyia</td>\n",
       "      <td>Pass</td>\n",
       "    </tr>\n",
       "    <tr>\n",
       "      <th>6</th>\n",
       "      <td>Ayesha</td>\n",
       "      <td>28</td>\n",
       "      <td>3.8</td>\n",
       "      <td>Pakistan</td>\n",
       "      <td>khushaab</td>\n",
       "      <td>Pass</td>\n",
       "    </tr>\n",
       "    <tr>\n",
       "      <th>7</th>\n",
       "      <td>Ali</td>\n",
       "      <td>21</td>\n",
       "      <td>3.9</td>\n",
       "      <td>Pakistan</td>\n",
       "      <td>Gojra</td>\n",
       "      <td>Pass</td>\n",
       "    </tr>\n",
       "    <tr>\n",
       "      <th>8</th>\n",
       "      <td>Usama</td>\n",
       "      <td>20</td>\n",
       "      <td>4.0</td>\n",
       "      <td>Pakistan</td>\n",
       "      <td>Faisalabad</td>\n",
       "      <td>Pass</td>\n",
       "    </tr>\n",
       "    <tr>\n",
       "      <th>9</th>\n",
       "      <td>Henrry</td>\n",
       "      <td>29</td>\n",
       "      <td>2.1</td>\n",
       "      <td>Pakistan</td>\n",
       "      <td>Lahore</td>\n",
       "      <td>Fail</td>\n",
       "    </tr>\n",
       "    <tr>\n",
       "      <th>10</th>\n",
       "      <td>Denis</td>\n",
       "      <td>28</td>\n",
       "      <td>2.9</td>\n",
       "      <td>Pakistan</td>\n",
       "      <td>Khushab</td>\n",
       "      <td>Pass</td>\n",
       "    </tr>\n",
       "    <tr>\n",
       "      <th>11</th>\n",
       "      <td>Sami</td>\n",
       "      <td>22</td>\n",
       "      <td>3.4</td>\n",
       "      <td>Pakistan</td>\n",
       "      <td>Faisalabad</td>\n",
       "      <td>Pass</td>\n",
       "    </tr>\n",
       "    <tr>\n",
       "      <th>12</th>\n",
       "      <td>Shehriyaar</td>\n",
       "      <td>24</td>\n",
       "      <td>3.9</td>\n",
       "      <td>Pakistan</td>\n",
       "      <td>Islamabad</td>\n",
       "      <td>Pass</td>\n",
       "    </tr>\n",
       "  </tbody>\n",
       "</table>\n",
       "</div>"
      ],
      "text/plain": [
       "       Student  Age  CGPA   Country        City Status\n",
       "0       Farhan   23   2.3  Pakistan  Faisalabad   Fail\n",
       "1         Daud   24   2.4  Pakistan      Lahore   Fail\n",
       "2      Javeria   20   2.5  Pakistan   Islamabad   Fail\n",
       "3        Arooj   25   3.5  Pakistan     karachi   Pass\n",
       "4        Talha   26   3.4  Pakistan      Multan   Pass\n",
       "5        Hanan   27   3.6  Pakistan      Layyia   Pass\n",
       "6       Ayesha   28   3.8  Pakistan    khushaab   Pass\n",
       "7          Ali   21   3.9  Pakistan       Gojra   Pass\n",
       "8        Usama   20   4.0  Pakistan  Faisalabad   Pass\n",
       "9       Henrry   29   2.1  Pakistan      Lahore   Fail\n",
       "10       Denis   28   2.9  Pakistan     Khushab   Pass\n",
       "11        Sami   22   3.4  Pakistan  Faisalabad   Pass\n",
       "12  Shehriyaar   24   3.9  Pakistan   Islamabad   Pass"
      ]
     },
     "execution_count": 38,
     "metadata": {},
     "output_type": "execute_result"
    }
   ],
   "source": [
    "new_df"
   ]
  },
  {
   "cell_type": "code",
   "execution_count": 43,
   "id": "b5071f12",
   "metadata": {},
   "outputs": [],
   "source": [
    "new_df[\"Marital Status\"]=\"Unmarried\""
   ]
  },
  {
   "cell_type": "code",
   "execution_count": 44,
   "id": "bc0ccceb",
   "metadata": {},
   "outputs": [
    {
     "data": {
      "text/html": [
       "<div>\n",
       "<style scoped>\n",
       "    .dataframe tbody tr th:only-of-type {\n",
       "        vertical-align: middle;\n",
       "    }\n",
       "\n",
       "    .dataframe tbody tr th {\n",
       "        vertical-align: top;\n",
       "    }\n",
       "\n",
       "    .dataframe thead th {\n",
       "        text-align: right;\n",
       "    }\n",
       "</style>\n",
       "<table border=\"1\" class=\"dataframe\">\n",
       "  <thead>\n",
       "    <tr style=\"text-align: right;\">\n",
       "      <th></th>\n",
       "      <th>Student</th>\n",
       "      <th>Age</th>\n",
       "      <th>CGPA</th>\n",
       "      <th>Country</th>\n",
       "      <th>City</th>\n",
       "      <th>Status</th>\n",
       "      <th>Marital Status</th>\n",
       "    </tr>\n",
       "  </thead>\n",
       "  <tbody>\n",
       "    <tr>\n",
       "      <th>0</th>\n",
       "      <td>Farhan</td>\n",
       "      <td>23</td>\n",
       "      <td>2.3</td>\n",
       "      <td>Pakistan</td>\n",
       "      <td>Faisalabad</td>\n",
       "      <td>Fail</td>\n",
       "      <td>Unmarried</td>\n",
       "    </tr>\n",
       "    <tr>\n",
       "      <th>1</th>\n",
       "      <td>Daud</td>\n",
       "      <td>24</td>\n",
       "      <td>2.4</td>\n",
       "      <td>Pakistan</td>\n",
       "      <td>Lahore</td>\n",
       "      <td>Fail</td>\n",
       "      <td>Unmarried</td>\n",
       "    </tr>\n",
       "    <tr>\n",
       "      <th>2</th>\n",
       "      <td>Javeria</td>\n",
       "      <td>20</td>\n",
       "      <td>2.5</td>\n",
       "      <td>Pakistan</td>\n",
       "      <td>Islamabad</td>\n",
       "      <td>Fail</td>\n",
       "      <td>Unmarried</td>\n",
       "    </tr>\n",
       "    <tr>\n",
       "      <th>3</th>\n",
       "      <td>Arooj</td>\n",
       "      <td>25</td>\n",
       "      <td>3.5</td>\n",
       "      <td>Pakistan</td>\n",
       "      <td>karachi</td>\n",
       "      <td>Pass</td>\n",
       "      <td>Unmarried</td>\n",
       "    </tr>\n",
       "    <tr>\n",
       "      <th>4</th>\n",
       "      <td>Talha</td>\n",
       "      <td>26</td>\n",
       "      <td>3.4</td>\n",
       "      <td>Pakistan</td>\n",
       "      <td>Multan</td>\n",
       "      <td>Pass</td>\n",
       "      <td>Unmarried</td>\n",
       "    </tr>\n",
       "    <tr>\n",
       "      <th>5</th>\n",
       "      <td>Hanan</td>\n",
       "      <td>27</td>\n",
       "      <td>3.6</td>\n",
       "      <td>Pakistan</td>\n",
       "      <td>Layyia</td>\n",
       "      <td>Pass</td>\n",
       "      <td>Unmarried</td>\n",
       "    </tr>\n",
       "    <tr>\n",
       "      <th>6</th>\n",
       "      <td>Ayesha</td>\n",
       "      <td>28</td>\n",
       "      <td>3.8</td>\n",
       "      <td>Pakistan</td>\n",
       "      <td>khushaab</td>\n",
       "      <td>Pass</td>\n",
       "      <td>Unmarried</td>\n",
       "    </tr>\n",
       "    <tr>\n",
       "      <th>7</th>\n",
       "      <td>Ali</td>\n",
       "      <td>21</td>\n",
       "      <td>3.9</td>\n",
       "      <td>Pakistan</td>\n",
       "      <td>Gojra</td>\n",
       "      <td>Pass</td>\n",
       "      <td>Unmarried</td>\n",
       "    </tr>\n",
       "    <tr>\n",
       "      <th>8</th>\n",
       "      <td>Usama</td>\n",
       "      <td>20</td>\n",
       "      <td>4.0</td>\n",
       "      <td>Pakistan</td>\n",
       "      <td>Faisalabad</td>\n",
       "      <td>Pass</td>\n",
       "      <td>Unmarried</td>\n",
       "    </tr>\n",
       "    <tr>\n",
       "      <th>9</th>\n",
       "      <td>Henrry</td>\n",
       "      <td>29</td>\n",
       "      <td>2.1</td>\n",
       "      <td>Pakistan</td>\n",
       "      <td>Lahore</td>\n",
       "      <td>Fail</td>\n",
       "      <td>Unmarried</td>\n",
       "    </tr>\n",
       "    <tr>\n",
       "      <th>10</th>\n",
       "      <td>Denis</td>\n",
       "      <td>28</td>\n",
       "      <td>2.9</td>\n",
       "      <td>Pakistan</td>\n",
       "      <td>Khushab</td>\n",
       "      <td>Pass</td>\n",
       "      <td>Unmarried</td>\n",
       "    </tr>\n",
       "    <tr>\n",
       "      <th>11</th>\n",
       "      <td>Sami</td>\n",
       "      <td>22</td>\n",
       "      <td>3.4</td>\n",
       "      <td>Pakistan</td>\n",
       "      <td>Faisalabad</td>\n",
       "      <td>Pass</td>\n",
       "      <td>Unmarried</td>\n",
       "    </tr>\n",
       "    <tr>\n",
       "      <th>12</th>\n",
       "      <td>Shehriyaar</td>\n",
       "      <td>24</td>\n",
       "      <td>3.9</td>\n",
       "      <td>Pakistan</td>\n",
       "      <td>Islamabad</td>\n",
       "      <td>Pass</td>\n",
       "      <td>Unmarried</td>\n",
       "    </tr>\n",
       "  </tbody>\n",
       "</table>\n",
       "</div>"
      ],
      "text/plain": [
       "       Student  Age  CGPA   Country        City Status Marital Status\n",
       "0       Farhan   23   2.3  Pakistan  Faisalabad   Fail      Unmarried\n",
       "1         Daud   24   2.4  Pakistan      Lahore   Fail      Unmarried\n",
       "2      Javeria   20   2.5  Pakistan   Islamabad   Fail      Unmarried\n",
       "3        Arooj   25   3.5  Pakistan     karachi   Pass      Unmarried\n",
       "4        Talha   26   3.4  Pakistan      Multan   Pass      Unmarried\n",
       "5        Hanan   27   3.6  Pakistan      Layyia   Pass      Unmarried\n",
       "6       Ayesha   28   3.8  Pakistan    khushaab   Pass      Unmarried\n",
       "7          Ali   21   3.9  Pakistan       Gojra   Pass      Unmarried\n",
       "8        Usama   20   4.0  Pakistan  Faisalabad   Pass      Unmarried\n",
       "9       Henrry   29   2.1  Pakistan      Lahore   Fail      Unmarried\n",
       "10       Denis   28   2.9  Pakistan     Khushab   Pass      Unmarried\n",
       "11        Sami   22   3.4  Pakistan  Faisalabad   Pass      Unmarried\n",
       "12  Shehriyaar   24   3.9  Pakistan   Islamabad   Pass      Unmarried"
      ]
     },
     "execution_count": 44,
     "metadata": {},
     "output_type": "execute_result"
    }
   ],
   "source": [
    "new_df"
   ]
  },
  {
   "cell_type": "markdown",
   "id": "51ca6e61",
   "metadata": {},
   "source": [
    "# DataFrame From Python_List"
   ]
  },
  {
   "cell_type": "code",
   "execution_count": 45,
   "id": "9c2e9331",
   "metadata": {},
   "outputs": [],
   "source": [
    "list=[[1,2,3,4,5],[6,7,8,9,10]]"
   ]
  },
  {
   "cell_type": "code",
   "execution_count": 53,
   "id": "e36fcf40",
   "metadata": {},
   "outputs": [],
   "source": [
    "list_df=pd.DataFrame(list,index=[1,2],columns=[\"A\",\"B\",\"C\",\"D\",\"E\"])"
   ]
  },
  {
   "cell_type": "code",
   "execution_count": 54,
   "id": "265ac45c",
   "metadata": {},
   "outputs": [
    {
     "data": {
      "text/html": [
       "<div>\n",
       "<style scoped>\n",
       "    .dataframe tbody tr th:only-of-type {\n",
       "        vertical-align: middle;\n",
       "    }\n",
       "\n",
       "    .dataframe tbody tr th {\n",
       "        vertical-align: top;\n",
       "    }\n",
       "\n",
       "    .dataframe thead th {\n",
       "        text-align: right;\n",
       "    }\n",
       "</style>\n",
       "<table border=\"1\" class=\"dataframe\">\n",
       "  <thead>\n",
       "    <tr style=\"text-align: right;\">\n",
       "      <th></th>\n",
       "      <th>A</th>\n",
       "      <th>B</th>\n",
       "      <th>C</th>\n",
       "      <th>D</th>\n",
       "      <th>E</th>\n",
       "    </tr>\n",
       "  </thead>\n",
       "  <tbody>\n",
       "    <tr>\n",
       "      <th>1</th>\n",
       "      <td>1</td>\n",
       "      <td>2</td>\n",
       "      <td>3</td>\n",
       "      <td>4</td>\n",
       "      <td>5</td>\n",
       "    </tr>\n",
       "    <tr>\n",
       "      <th>2</th>\n",
       "      <td>6</td>\n",
       "      <td>7</td>\n",
       "      <td>8</td>\n",
       "      <td>9</td>\n",
       "      <td>10</td>\n",
       "    </tr>\n",
       "  </tbody>\n",
       "</table>\n",
       "</div>"
      ],
      "text/plain": [
       "   A  B  C  D   E\n",
       "1  1  2  3  4   5\n",
       "2  6  7  8  9  10"
      ]
     },
     "execution_count": 54,
     "metadata": {},
     "output_type": "execute_result"
    }
   ],
   "source": [
    "list_df"
   ]
  },
  {
   "cell_type": "code",
   "execution_count": 55,
   "id": "6e59fc41",
   "metadata": {},
   "outputs": [
    {
     "data": {
      "text/html": [
       "<div>\n",
       "<style scoped>\n",
       "    .dataframe tbody tr th:only-of-type {\n",
       "        vertical-align: middle;\n",
       "    }\n",
       "\n",
       "    .dataframe tbody tr th {\n",
       "        vertical-align: top;\n",
       "    }\n",
       "\n",
       "    .dataframe thead th {\n",
       "        text-align: right;\n",
       "    }\n",
       "</style>\n",
       "<table border=\"1\" class=\"dataframe\">\n",
       "  <thead>\n",
       "    <tr style=\"text-align: right;\">\n",
       "      <th></th>\n",
       "      <th>Student</th>\n",
       "      <th>Age</th>\n",
       "      <th>CGPA</th>\n",
       "      <th>Country</th>\n",
       "      <th>City</th>\n",
       "      <th>Status</th>\n",
       "      <th>Marital Status</th>\n",
       "    </tr>\n",
       "  </thead>\n",
       "  <tbody>\n",
       "    <tr>\n",
       "      <th>0</th>\n",
       "      <td>Farhan</td>\n",
       "      <td>23</td>\n",
       "      <td>2.3</td>\n",
       "      <td>Pakistan</td>\n",
       "      <td>Faisalabad</td>\n",
       "      <td>Fail</td>\n",
       "      <td>Unmarried</td>\n",
       "    </tr>\n",
       "    <tr>\n",
       "      <th>1</th>\n",
       "      <td>Daud</td>\n",
       "      <td>24</td>\n",
       "      <td>2.4</td>\n",
       "      <td>Pakistan</td>\n",
       "      <td>Lahore</td>\n",
       "      <td>Fail</td>\n",
       "      <td>Unmarried</td>\n",
       "    </tr>\n",
       "    <tr>\n",
       "      <th>2</th>\n",
       "      <td>Javeria</td>\n",
       "      <td>20</td>\n",
       "      <td>2.5</td>\n",
       "      <td>Pakistan</td>\n",
       "      <td>Islamabad</td>\n",
       "      <td>Fail</td>\n",
       "      <td>Unmarried</td>\n",
       "    </tr>\n",
       "    <tr>\n",
       "      <th>3</th>\n",
       "      <td>Arooj</td>\n",
       "      <td>25</td>\n",
       "      <td>3.5</td>\n",
       "      <td>Pakistan</td>\n",
       "      <td>karachi</td>\n",
       "      <td>Pass</td>\n",
       "      <td>Unmarried</td>\n",
       "    </tr>\n",
       "    <tr>\n",
       "      <th>4</th>\n",
       "      <td>Talha</td>\n",
       "      <td>26</td>\n",
       "      <td>3.4</td>\n",
       "      <td>Pakistan</td>\n",
       "      <td>Multan</td>\n",
       "      <td>Pass</td>\n",
       "      <td>Unmarried</td>\n",
       "    </tr>\n",
       "    <tr>\n",
       "      <th>5</th>\n",
       "      <td>Hanan</td>\n",
       "      <td>27</td>\n",
       "      <td>3.6</td>\n",
       "      <td>Pakistan</td>\n",
       "      <td>Layyia</td>\n",
       "      <td>Pass</td>\n",
       "      <td>Unmarried</td>\n",
       "    </tr>\n",
       "    <tr>\n",
       "      <th>6</th>\n",
       "      <td>Ayesha</td>\n",
       "      <td>28</td>\n",
       "      <td>3.8</td>\n",
       "      <td>Pakistan</td>\n",
       "      <td>khushaab</td>\n",
       "      <td>Pass</td>\n",
       "      <td>Unmarried</td>\n",
       "    </tr>\n",
       "    <tr>\n",
       "      <th>7</th>\n",
       "      <td>Ali</td>\n",
       "      <td>21</td>\n",
       "      <td>3.9</td>\n",
       "      <td>Pakistan</td>\n",
       "      <td>Gojra</td>\n",
       "      <td>Pass</td>\n",
       "      <td>Unmarried</td>\n",
       "    </tr>\n",
       "    <tr>\n",
       "      <th>8</th>\n",
       "      <td>Usama</td>\n",
       "      <td>20</td>\n",
       "      <td>4.0</td>\n",
       "      <td>Pakistan</td>\n",
       "      <td>Faisalabad</td>\n",
       "      <td>Pass</td>\n",
       "      <td>Unmarried</td>\n",
       "    </tr>\n",
       "    <tr>\n",
       "      <th>9</th>\n",
       "      <td>Henrry</td>\n",
       "      <td>29</td>\n",
       "      <td>2.1</td>\n",
       "      <td>Pakistan</td>\n",
       "      <td>Lahore</td>\n",
       "      <td>Fail</td>\n",
       "      <td>Unmarried</td>\n",
       "    </tr>\n",
       "    <tr>\n",
       "      <th>10</th>\n",
       "      <td>Denis</td>\n",
       "      <td>28</td>\n",
       "      <td>2.9</td>\n",
       "      <td>Pakistan</td>\n",
       "      <td>Khushab</td>\n",
       "      <td>Pass</td>\n",
       "      <td>Unmarried</td>\n",
       "    </tr>\n",
       "    <tr>\n",
       "      <th>11</th>\n",
       "      <td>Sami</td>\n",
       "      <td>22</td>\n",
       "      <td>3.4</td>\n",
       "      <td>Pakistan</td>\n",
       "      <td>Faisalabad</td>\n",
       "      <td>Pass</td>\n",
       "      <td>Unmarried</td>\n",
       "    </tr>\n",
       "    <tr>\n",
       "      <th>12</th>\n",
       "      <td>Shehriyaar</td>\n",
       "      <td>24</td>\n",
       "      <td>3.9</td>\n",
       "      <td>Pakistan</td>\n",
       "      <td>Islamabad</td>\n",
       "      <td>Pass</td>\n",
       "      <td>Unmarried</td>\n",
       "    </tr>\n",
       "  </tbody>\n",
       "</table>\n",
       "</div>"
      ],
      "text/plain": [
       "       Student  Age  CGPA   Country        City Status Marital Status\n",
       "0       Farhan   23   2.3  Pakistan  Faisalabad   Fail      Unmarried\n",
       "1         Daud   24   2.4  Pakistan      Lahore   Fail      Unmarried\n",
       "2      Javeria   20   2.5  Pakistan   Islamabad   Fail      Unmarried\n",
       "3        Arooj   25   3.5  Pakistan     karachi   Pass      Unmarried\n",
       "4        Talha   26   3.4  Pakistan      Multan   Pass      Unmarried\n",
       "5        Hanan   27   3.6  Pakistan      Layyia   Pass      Unmarried\n",
       "6       Ayesha   28   3.8  Pakistan    khushaab   Pass      Unmarried\n",
       "7          Ali   21   3.9  Pakistan       Gojra   Pass      Unmarried\n",
       "8        Usama   20   4.0  Pakistan  Faisalabad   Pass      Unmarried\n",
       "9       Henrry   29   2.1  Pakistan      Lahore   Fail      Unmarried\n",
       "10       Denis   28   2.9  Pakistan     Khushab   Pass      Unmarried\n",
       "11        Sami   22   3.4  Pakistan  Faisalabad   Pass      Unmarried\n",
       "12  Shehriyaar   24   3.9  Pakistan   Islamabad   Pass      Unmarried"
      ]
     },
     "execution_count": 55,
     "metadata": {},
     "output_type": "execute_result"
    }
   ],
   "source": [
    "new_df"
   ]
  },
  {
   "cell_type": "code",
   "execution_count": 65,
   "id": "f16c724c",
   "metadata": {},
   "outputs": [
    {
     "ename": "NameError",
     "evalue": "name 'CGPA' is not defined",
     "output_type": "error",
     "traceback": [
      "\u001b[1;31m---------------------------------------------------------------------------\u001b[0m",
      "\u001b[1;31mNameError\u001b[0m                                 Traceback (most recent call last)",
      "\u001b[1;32m~\\AppData\\Local\\Temp/ipykernel_12244/2003453106.py\u001b[0m in \u001b[0;36m<module>\u001b[1;34m\u001b[0m\n\u001b[1;32m----> 1\u001b[1;33m \u001b[0mnp\u001b[0m\u001b[1;33m.\u001b[0m\u001b[0many\u001b[0m\u001b[1;33m(\u001b[0m\u001b[0mCGPA\u001b[0m\u001b[1;33m>\u001b[0m\u001b[1;36m3\u001b[0m\u001b[1;33m)\u001b[0m\u001b[1;33m\u001b[0m\u001b[1;33m\u001b[0m\u001b[0m\n\u001b[0m",
      "\u001b[1;31mNameError\u001b[0m: name 'CGPA' is not defined"
     ]
    }
   ],
   "source": [
    "np.any(CGPA>3)"
   ]
  },
  {
   "cell_type": "code",
   "execution_count": 68,
   "id": "f010d295",
   "metadata": {},
   "outputs": [
    {
     "name": "stdout",
     "output_type": "stream",
     "text": [
      "True\n"
     ]
    }
   ],
   "source": [
    "week_days={\"a\":\"b\",\"c\":\"d\",\"e\":\"f\",\"g\":\"h\"}\n",
    "week_series=pd.Series(week_days)\n",
    "week_series\n",
    "print(week_series.any())"
   ]
  },
  {
   "cell_type": "code",
   "execution_count": 69,
   "id": "7ef430fc",
   "metadata": {},
   "outputs": [
    {
     "name": "stdout",
     "output_type": "stream",
     "text": [
      "True\n"
     ]
    }
   ],
   "source": [
    "print(week_series.any())"
   ]
  },
  {
   "cell_type": "code",
   "execution_count": 61,
   "id": "f81d516d",
   "metadata": {},
   "outputs": [],
   "source": [
    "ar=np.array([1,2,3,4])"
   ]
  },
  {
   "cell_type": "code",
   "execution_count": 62,
   "id": "dc451ddf",
   "metadata": {},
   "outputs": [
    {
     "data": {
      "text/plain": [
       "array([1, 2, 3, 4])"
      ]
     },
     "execution_count": 62,
     "metadata": {},
     "output_type": "execute_result"
    }
   ],
   "source": [
    "ar"
   ]
  },
  {
   "cell_type": "code",
   "execution_count": 67,
   "id": "ea4f3d13",
   "metadata": {},
   "outputs": [
    {
     "data": {
      "text/plain": [
       "False"
      ]
     },
     "execution_count": 67,
     "metadata": {},
     "output_type": "execute_result"
    }
   ],
   "source": [
    "np.any(ar>5)"
   ]
  },
  {
   "cell_type": "code",
   "execution_count": null,
   "id": "60f65c22",
   "metadata": {},
   "outputs": [],
   "source": []
  }
 ],
 "metadata": {
  "kernelspec": {
   "display_name": "Python 3 (ipykernel)",
   "language": "python",
   "name": "python3"
  },
  "language_info": {
   "codemirror_mode": {
    "name": "ipython",
    "version": 3
   },
   "file_extension": ".py",
   "mimetype": "text/x-python",
   "name": "python",
   "nbconvert_exporter": "python",
   "pygments_lexer": "ipython3",
   "version": "3.9.7"
  }
 },
 "nbformat": 4,
 "nbformat_minor": 5
}
